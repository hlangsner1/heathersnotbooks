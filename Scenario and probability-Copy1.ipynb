{
 "cells": [
  {
   "cell_type": "code",
   "execution_count": 1,
   "id": "5dedd243-145f-457e-a9c9-2575ba029954",
   "metadata": {},
   "outputs": [],
   "source": [
    "import yfinance\n",
    "import pandas as pd\n",
    "import numpy as np\n",
    "\n",
    "import matplotlib.pyplot as plt"
   ]
  },
  {
   "cell_type": "code",
   "execution_count": 2,
   "id": "fea15766-14fb-403b-94eb-69e2c220734c",
   "metadata": {},
   "outputs": [],
   "source": [
    "portfolio_composition = [('XOM',0.5),('CVX',0.2),('DVN',0.3)]\n",
    "\n",
    "returns = pd.DataFrame({})"
   ]
  },
  {
   "cell_type": "code",
   "execution_count": 3,
   "id": "1860f16b-7fa0-4471-9852-ba8eef30ac6f",
   "metadata": {},
   "outputs": [
    {
     "ename": "MergeError",
     "evalue": "No common columns to perform merge on. Merge options: left_on=None, right_on=None, left_index=False, right_index=False",
     "output_type": "error",
     "traceback": [
      "\u001b[0;31m---------------------------------------------------------------------------\u001b[0m",
      "\u001b[0;31mMergeError\u001b[0m                                Traceback (most recent call last)",
      "\u001b[0;32m<ipython-input-3-eddceeca360a>\u001b[0m in \u001b[0;36m<module>\u001b[0;34m\u001b[0m\n\u001b[1;32m      5\u001b[0m   \u001b[0mdata\u001b[0m\u001b[0;34m[\u001b[0m\u001b[0;34m'return_%s'\u001b[0m \u001b[0;34m%\u001b[0m \u001b[0;34m(\u001b[0m\u001b[0mname\u001b[0m\u001b[0;34m)\u001b[0m\u001b[0;34m]\u001b[0m \u001b[0;34m=\u001b[0m \u001b[0mdata\u001b[0m\u001b[0;34m[\u001b[0m\u001b[0;34m'Close'\u001b[0m\u001b[0;34m]\u001b[0m\u001b[0;34m.\u001b[0m\u001b[0mpct_change\u001b[0m\u001b[0;34m(\u001b[0m\u001b[0;36m1\u001b[0m\u001b[0;34m)\u001b[0m\u001b[0;34m\u001b[0m\u001b[0;34m\u001b[0m\u001b[0m\n\u001b[1;32m      6\u001b[0m \u001b[0;34m\u001b[0m\u001b[0m\n\u001b[0;32m----> 7\u001b[0;31m   \u001b[0mreturns\u001b[0m \u001b[0;34m=\u001b[0m \u001b[0mreturns\u001b[0m\u001b[0;34m.\u001b[0m\u001b[0mmerge\u001b[0m\u001b[0;34m(\u001b[0m\u001b[0mdata\u001b[0m\u001b[0;34m[\u001b[0m\u001b[0;34m[\u001b[0m\u001b[0;34m'return_%s'\u001b[0m \u001b[0;34m%\u001b[0m \u001b[0;34m(\u001b[0m\u001b[0mname\u001b[0m\u001b[0;34m)\u001b[0m\u001b[0;34m]\u001b[0m\u001b[0;34m]\u001b[0m\u001b[0;34m,\u001b[0m\u001b[0mhow\u001b[0m\u001b[0;34m=\u001b[0m\u001b[0;34m\"left\"\u001b[0m\u001b[0;34m)\u001b[0m\u001b[0;34m.\u001b[0m\u001b[0mdropna\u001b[0m\u001b[0;34m(\u001b[0m\u001b[0;34m)\u001b[0m\u001b[0;34m\u001b[0m\u001b[0;34m\u001b[0m\u001b[0m\n\u001b[0m",
      "\u001b[0;32m/opt/anaconda3/envs/p38/lib/python3.8/site-packages/pandas/core/frame.py\u001b[0m in \u001b[0;36mmerge\u001b[0;34m(self, right, how, on, left_on, right_on, left_index, right_index, sort, suffixes, copy, indicator, validate)\u001b[0m\n\u001b[1;32m   9184\u001b[0m         \u001b[0;32mfrom\u001b[0m \u001b[0mpandas\u001b[0m\u001b[0;34m.\u001b[0m\u001b[0mcore\u001b[0m\u001b[0;34m.\u001b[0m\u001b[0mreshape\u001b[0m\u001b[0;34m.\u001b[0m\u001b[0mmerge\u001b[0m \u001b[0;32mimport\u001b[0m \u001b[0mmerge\u001b[0m\u001b[0;34m\u001b[0m\u001b[0;34m\u001b[0m\u001b[0m\n\u001b[1;32m   9185\u001b[0m \u001b[0;34m\u001b[0m\u001b[0m\n\u001b[0;32m-> 9186\u001b[0;31m         return merge(\n\u001b[0m\u001b[1;32m   9187\u001b[0m             \u001b[0mself\u001b[0m\u001b[0;34m,\u001b[0m\u001b[0;34m\u001b[0m\u001b[0;34m\u001b[0m\u001b[0m\n\u001b[1;32m   9188\u001b[0m             \u001b[0mright\u001b[0m\u001b[0;34m,\u001b[0m\u001b[0;34m\u001b[0m\u001b[0;34m\u001b[0m\u001b[0m\n",
      "\u001b[0;32m/opt/anaconda3/envs/p38/lib/python3.8/site-packages/pandas/core/reshape/merge.py\u001b[0m in \u001b[0;36mmerge\u001b[0;34m(left, right, how, on, left_on, right_on, left_index, right_index, sort, suffixes, copy, indicator, validate)\u001b[0m\n\u001b[1;32m    105\u001b[0m     \u001b[0mvalidate\u001b[0m\u001b[0;34m:\u001b[0m \u001b[0mstr\u001b[0m \u001b[0;34m|\u001b[0m \u001b[0;32mNone\u001b[0m \u001b[0;34m=\u001b[0m \u001b[0;32mNone\u001b[0m\u001b[0;34m,\u001b[0m\u001b[0;34m\u001b[0m\u001b[0;34m\u001b[0m\u001b[0m\n\u001b[1;32m    106\u001b[0m ) -> DataFrame:\n\u001b[0;32m--> 107\u001b[0;31m     op = _MergeOperation(\n\u001b[0m\u001b[1;32m    108\u001b[0m         \u001b[0mleft\u001b[0m\u001b[0;34m,\u001b[0m\u001b[0;34m\u001b[0m\u001b[0;34m\u001b[0m\u001b[0m\n\u001b[1;32m    109\u001b[0m         \u001b[0mright\u001b[0m\u001b[0;34m,\u001b[0m\u001b[0;34m\u001b[0m\u001b[0;34m\u001b[0m\u001b[0m\n",
      "\u001b[0;32m/opt/anaconda3/envs/p38/lib/python3.8/site-packages/pandas/core/reshape/merge.py\u001b[0m in \u001b[0;36m__init__\u001b[0;34m(self, left, right, how, on, left_on, right_on, axis, left_index, right_index, sort, suffixes, copy, indicator, validate)\u001b[0m\n\u001b[1;32m    680\u001b[0m             \u001b[0mwarnings\u001b[0m\u001b[0;34m.\u001b[0m\u001b[0mwarn\u001b[0m\u001b[0;34m(\u001b[0m\u001b[0mmsg\u001b[0m\u001b[0;34m,\u001b[0m \u001b[0mFutureWarning\u001b[0m\u001b[0;34m,\u001b[0m \u001b[0mstacklevel\u001b[0m\u001b[0;34m=\u001b[0m\u001b[0;36m3\u001b[0m\u001b[0;34m)\u001b[0m\u001b[0;34m\u001b[0m\u001b[0;34m\u001b[0m\u001b[0m\n\u001b[1;32m    681\u001b[0m \u001b[0;34m\u001b[0m\u001b[0m\n\u001b[0;32m--> 682\u001b[0;31m         \u001b[0mself\u001b[0m\u001b[0;34m.\u001b[0m\u001b[0m_validate_specification\u001b[0m\u001b[0;34m(\u001b[0m\u001b[0;34m)\u001b[0m\u001b[0;34m\u001b[0m\u001b[0;34m\u001b[0m\u001b[0m\n\u001b[0m\u001b[1;32m    683\u001b[0m \u001b[0;34m\u001b[0m\u001b[0m\n\u001b[1;32m    684\u001b[0m         \u001b[0mcross_col\u001b[0m \u001b[0;34m=\u001b[0m \u001b[0;32mNone\u001b[0m\u001b[0;34m\u001b[0m\u001b[0;34m\u001b[0m\u001b[0m\n",
      "\u001b[0;32m/opt/anaconda3/envs/p38/lib/python3.8/site-packages/pandas/core/reshape/merge.py\u001b[0m in \u001b[0;36m_validate_specification\u001b[0;34m(self)\u001b[0m\n\u001b[1;32m   1340\u001b[0m                 \u001b[0mcommon_cols\u001b[0m \u001b[0;34m=\u001b[0m \u001b[0mleft_cols\u001b[0m\u001b[0;34m.\u001b[0m\u001b[0mintersection\u001b[0m\u001b[0;34m(\u001b[0m\u001b[0mright_cols\u001b[0m\u001b[0;34m)\u001b[0m\u001b[0;34m\u001b[0m\u001b[0;34m\u001b[0m\u001b[0m\n\u001b[1;32m   1341\u001b[0m                 \u001b[0;32mif\u001b[0m \u001b[0mlen\u001b[0m\u001b[0;34m(\u001b[0m\u001b[0mcommon_cols\u001b[0m\u001b[0;34m)\u001b[0m \u001b[0;34m==\u001b[0m \u001b[0;36m0\u001b[0m\u001b[0;34m:\u001b[0m\u001b[0;34m\u001b[0m\u001b[0;34m\u001b[0m\u001b[0m\n\u001b[0;32m-> 1342\u001b[0;31m                     raise MergeError(\n\u001b[0m\u001b[1;32m   1343\u001b[0m                         \u001b[0;34m\"No common columns to perform merge on. \"\u001b[0m\u001b[0;34m\u001b[0m\u001b[0;34m\u001b[0m\u001b[0m\n\u001b[1;32m   1344\u001b[0m                         \u001b[0;34mf\"Merge options: left_on={self.left_on}, \"\u001b[0m\u001b[0;34m\u001b[0m\u001b[0;34m\u001b[0m\u001b[0m\n",
      "\u001b[0;31mMergeError\u001b[0m: No common columns to perform merge on. Merge options: left_on=None, right_on=None, left_index=False, right_index=False"
     ]
    }
   ],
   "source": [
    "for t in portfolio_composition:\n",
    "  name = t[0]\n",
    "  ticker = yfinance.Ticker(name)\n",
    "  data = ticker.history(interval=\"1d\",start=\"2021-02-01\",end=\"2021-04-01\")\n",
    "  data['return_%s' % (name)] = data['Close'].pct_change(1)\n",
    "\n",
    "  returns = returns.merge(data[['return_%s' % (name)]],how=\"left\").dropna()"
   ]
  },
  {
   "cell_type": "code",
   "execution_count": 62,
   "id": "37197bea-267d-486a-bbf2-5e1c889e2df0",
   "metadata": {},
   "outputs": [
    {
     "data": {
      "text/html": [
       "<div>\n",
       "<style scoped>\n",
       "    .dataframe tbody tr th:only-of-type {\n",
       "        vertical-align: middle;\n",
       "    }\n",
       "\n",
       "    .dataframe tbody tr th {\n",
       "        vertical-align: top;\n",
       "    }\n",
       "\n",
       "    .dataframe thead th {\n",
       "        text-align: right;\n",
       "    }\n",
       "</style>\n",
       "<table border=\"1\" class=\"dataframe\">\n",
       "  <thead>\n",
       "    <tr style=\"text-align: right;\">\n",
       "      <th></th>\n",
       "      <th>return_XOM</th>\n",
       "      <th>return_CVX</th>\n",
       "      <th>return_DVN</th>\n",
       "    </tr>\n",
       "  </thead>\n",
       "  <tbody>\n",
       "    <tr>\n",
       "      <th>0</th>\n",
       "      <td>0.003904</td>\n",
       "      <td>0.007083</td>\n",
       "      <td>0.001045</td>\n",
       "    </tr>\n",
       "    <tr>\n",
       "      <th>1</th>\n",
       "      <td>0.008643</td>\n",
       "      <td>0.000126</td>\n",
       "      <td>-0.003001</td>\n",
       "    </tr>\n",
       "    <tr>\n",
       "      <th>2</th>\n",
       "      <td>-0.003142</td>\n",
       "      <td>-0.003768</td>\n",
       "      <td>-0.005888</td>\n",
       "    </tr>\n",
       "    <tr>\n",
       "      <th>3</th>\n",
       "      <td>-0.004012</td>\n",
       "      <td>0.001765</td>\n",
       "      <td>0.001975</td>\n",
       "    </tr>\n",
       "    <tr>\n",
       "      <th>4</th>\n",
       "      <td>0.011220</td>\n",
       "      <td>0.017743</td>\n",
       "      <td>-0.013662</td>\n",
       "    </tr>\n",
       "    <tr>\n",
       "      <th>...</th>\n",
       "      <td>...</td>\n",
       "      <td>...</td>\n",
       "      <td>...</td>\n",
       "    </tr>\n",
       "    <tr>\n",
       "      <th>2509</th>\n",
       "      <td>0.005004</td>\n",
       "      <td>0.005431</td>\n",
       "      <td>0.029839</td>\n",
       "    </tr>\n",
       "    <tr>\n",
       "      <th>2510</th>\n",
       "      <td>-0.003841</td>\n",
       "      <td>0.000083</td>\n",
       "      <td>0.011819</td>\n",
       "    </tr>\n",
       "    <tr>\n",
       "      <th>2511</th>\n",
       "      <td>0.001571</td>\n",
       "      <td>0.002161</td>\n",
       "      <td>-0.006782</td>\n",
       "    </tr>\n",
       "    <tr>\n",
       "      <th>2512</th>\n",
       "      <td>-0.003422</td>\n",
       "      <td>-0.002488</td>\n",
       "      <td>-0.023900</td>\n",
       "    </tr>\n",
       "    <tr>\n",
       "      <th>2513</th>\n",
       "      <td>-0.005866</td>\n",
       "      <td>-0.003740</td>\n",
       "      <td>-0.007773</td>\n",
       "    </tr>\n",
       "  </tbody>\n",
       "</table>\n",
       "<p>2514 rows × 3 columns</p>\n",
       "</div>"
      ],
      "text/plain": [
       "      return_XOM  return_CVX  return_DVN\n",
       "0       0.003904    0.007083    0.001045\n",
       "1       0.008643    0.000126   -0.003001\n",
       "2      -0.003142   -0.003768   -0.005888\n",
       "3      -0.004012    0.001765    0.001975\n",
       "4       0.011220    0.017743   -0.013662\n",
       "...          ...         ...         ...\n",
       "2509    0.005004    0.005431    0.029839\n",
       "2510   -0.003841    0.000083    0.011819\n",
       "2511    0.001571    0.002161   -0.006782\n",
       "2512   -0.003422   -0.002488   -0.023900\n",
       "2513   -0.005866   -0.003740   -0.007773\n",
       "\n",
       "[2514 rows x 3 columns]"
      ]
     },
     "execution_count": 62,
     "metadata": {},
     "output_type": "execute_result"
    }
   ],
   "source": [
    "returns"
   ]
  },
  {
   "cell_type": "code",
   "execution_count": 101,
   "id": "f11fa761-cdcf-48ba-b4f3-005c7e60ae61",
   "metadata": {},
   "outputs": [],
   "source": [
    "def simulate_returns(historical_returns,forecast_days):\n",
    "  return historical_returns.sample(n = 56, replace = True).reset_index(drop = True)"
   ]
  },
  {
   "cell_type": "code",
   "execution_count": 118,
   "id": "7141f07d-163d-4ac5-83b8-7644cb5e8bb2",
   "metadata": {},
   "outputs": [
    {
     "data": {
      "text/plain": [
       "0    -0.026014\n",
       "1     0.051252\n",
       "2    -0.039056\n",
       "3     0.018170\n",
       "4    -0.012546\n",
       "5     0.010638\n",
       "6    -0.021851\n",
       "7    -0.011538\n",
       "8     0.016716\n",
       "9    -0.010817\n",
       "10    0.016603\n",
       "11    0.028286\n",
       "12    0.010947\n",
       "13   -0.008467\n",
       "14    0.004696\n",
       "15    0.008425\n",
       "16   -0.006728\n",
       "17    0.013870\n",
       "18    0.006188\n",
       "19   -0.017463\n",
       "20    0.027174\n",
       "21   -0.019280\n",
       "22    0.005157\n",
       "23   -0.008586\n",
       "24    0.007890\n",
       "25    0.004161\n",
       "26   -0.036660\n",
       "27    0.011377\n",
       "28    0.026862\n",
       "29   -0.018014\n",
       "30   -0.020961\n",
       "31   -0.001912\n",
       "32    0.026441\n",
       "33    0.002452\n",
       "34   -0.071168\n",
       "35   -0.010375\n",
       "36   -0.004093\n",
       "37   -0.009781\n",
       "38    0.010541\n",
       "39    0.015933\n",
       "40    0.001844\n",
       "41   -0.002204\n",
       "42    0.023189\n",
       "43    0.033962\n",
       "44    0.020795\n",
       "45    0.071534\n",
       "46    0.002395\n",
       "47    0.009429\n",
       "48   -0.055935\n",
       "49   -0.010823\n",
       "50   -0.030408\n",
       "51   -0.051209\n",
       "52    0.010256\n",
       "53    0.052049\n",
       "54   -0.023900\n",
       "55   -0.034618\n",
       "Name: return_DVN, dtype: float64"
      ]
     },
     "execution_count": 118,
     "metadata": {},
     "output_type": "execute_result"
    }
   ],
   "source": [
    "simulate_returns(returns['return_DVN'],1000)"
   ]
  },
  {
   "cell_type": "code",
   "execution_count": 103,
   "id": "3a020fc3-f5e6-4c6b-bb3a-ca762bef800d",
   "metadata": {},
   "outputs": [],
   "source": [
    "def simulate_portfolio(historical_returns,composition,forecast_days):\n",
    "  result = 0\n",
    "  for t in composition:\n",
    "    name,weight = t[0],t[1]\n",
    "    s = simulate_returns(historical_returns['return_%s' % (name)], forecast_days)\n",
    "    result = result + s * weight\n",
    "  \n",
    "  return(result)"
   ]
  },
  {
   "cell_type": "code",
   "execution_count": 120,
   "id": "56bb5623-4b23-4661-b8ca-7130da8506c8",
   "metadata": {},
   "outputs": [
    {
     "data": {
      "text/plain": [
       "0    -0.014294\n",
       "1     0.004384\n",
       "2    -0.004139\n",
       "3     0.009043\n",
       "4     0.000730\n",
       "5     0.000279\n",
       "6    -0.000290\n",
       "7     0.002671\n",
       "8    -0.009001\n",
       "9     0.012706\n",
       "10    0.007833\n",
       "11   -0.003481\n",
       "12   -0.004608\n",
       "13   -0.020496\n",
       "14    0.010446\n",
       "15   -0.002858\n",
       "16    0.022274\n",
       "17   -0.011207\n",
       "18    0.010670\n",
       "19   -0.011185\n",
       "20    0.000173\n",
       "21    0.000647\n",
       "22    0.013064\n",
       "23   -0.001078\n",
       "24   -0.006873\n",
       "25   -0.003937\n",
       "26   -0.013925\n",
       "27   -0.000493\n",
       "28   -0.005478\n",
       "29    0.004671\n",
       "30   -0.009666\n",
       "31    0.011361\n",
       "32   -0.001260\n",
       "33   -0.006426\n",
       "34   -0.003169\n",
       "35   -0.003307\n",
       "36    0.002736\n",
       "37    0.011121\n",
       "38    0.025633\n",
       "39   -0.009816\n",
       "40   -0.014021\n",
       "41   -0.018908\n",
       "42    0.011626\n",
       "43    0.015961\n",
       "44    0.003403\n",
       "45    0.013070\n",
       "46   -0.003779\n",
       "47    0.009847\n",
       "48    0.013771\n",
       "49   -0.010448\n",
       "50    0.006930\n",
       "51   -0.001531\n",
       "52    0.007711\n",
       "53   -0.008291\n",
       "54    0.005998\n",
       "55    0.013887\n",
       "dtype: float64"
      ]
     },
     "execution_count": 120,
     "metadata": {},
     "output_type": "execute_result"
    }
   ],
   "source": [
    "simulate_portfolio(returns,portfolio_composition,1095)"
   ]
  },
  {
   "cell_type": "code",
   "execution_count": 105,
   "id": "314a7cc0-dbe6-4f65-8944-8eb945c27e85",
   "metadata": {},
   "outputs": [],
   "source": [
    "def simulate_modified_returns(historical_returns,forecast_days,correct_mean_by):\n",
    "  h = historical_returns.copy()\n",
    "\n",
    "  new_series = h + correct_mean_by\n",
    "\n",
    "  return new_series.sample(n=forecast_days,replace=True).reset_index(drop=True)"
   ]
  },
  {
   "cell_type": "code",
   "execution_count": 106,
   "id": "9ba162a8-29f0-4307-906c-8d159123de21",
   "metadata": {},
   "outputs": [],
   "source": [
    "def simulate_modified_portfolio(historical_returns,composition,forecast_days,correction):\n",
    "  result = 0\n",
    "  for t in composition:\n",
    "        # t is ('XOM',0.5)\n",
    "    name,weight = t[0],t[1]\n",
    "    s = simulate_modified_returns(historical_returns['return_%s' % (name)], forecast_days, correction)\n",
    "    result = result + s * weight\n",
    "  \n",
    "  return(result)"
   ]
  },
  {
   "cell_type": "code",
   "execution_count": 107,
   "id": "8b2a5a3c-e72f-4ac7-a7d2-8e6b76db0164",
   "metadata": {},
   "outputs": [],
   "source": [
    "def simulation(historical_returns,composition,forecast_days,n_iterations,correction):\n",
    "  simulated_portfolios = None\n",
    "\n",
    "  for i in range(n_iterations):\n",
    "    sim = simulate_modified_portfolio(historical_returns,composition,forecast_days,correction)\n",
    "\n",
    "    sim_port = pd.DataFrame({'returns_%d' % (i) : sim})\n",
    "\n",
    "    if simulated_portfolios is None:\n",
    "      simulated_portfolios = sim_port\n",
    "    else:\n",
    "      simulated_portfolios = simulated_portfolios.join(sim_port)\n",
    "    \n",
    "  return simulated_portfolios"
   ]
  },
  {
   "cell_type": "code",
   "execution_count": 124,
   "id": "aecf669f-628c-40c6-9d7f-ce92a92c3d41",
   "metadata": {},
   "outputs": [
    {
     "data": {
      "text/plain": [
       "return_XOM    0.000199\n",
       "return_CVX    0.000402\n",
       "return_DVN   -0.000117\n",
       "dtype: float64"
      ]
     },
     "execution_count": 124,
     "metadata": {},
     "output_type": "execute_result"
    }
   ],
   "source": [
    "returns.mean(axis=0)"
   ]
  },
  {
   "cell_type": "code",
   "execution_count": 125,
   "id": "ca9017df-bb6a-4e7d-97c7-b1f68690ca54",
   "metadata": {},
   "outputs": [],
   "source": [
    "simulated_portfolios = simulation(returns,portfolio_composition,1095,200,-0.001)"
   ]
  },
  {
   "cell_type": "code",
   "execution_count": 126,
   "id": "6cd8e915-ddfa-4b18-a523-cbfa0d3bec38",
   "metadata": {},
   "outputs": [
    {
     "data": {
      "text/html": [
       "<div>\n",
       "<style scoped>\n",
       "    .dataframe tbody tr th:only-of-type {\n",
       "        vertical-align: middle;\n",
       "    }\n",
       "\n",
       "    .dataframe tbody tr th {\n",
       "        vertical-align: top;\n",
       "    }\n",
       "\n",
       "    .dataframe thead th {\n",
       "        text-align: right;\n",
       "    }\n",
       "</style>\n",
       "<table border=\"1\" class=\"dataframe\">\n",
       "  <thead>\n",
       "    <tr style=\"text-align: right;\">\n",
       "      <th></th>\n",
       "      <th>returns_0</th>\n",
       "      <th>returns_1</th>\n",
       "      <th>returns_2</th>\n",
       "      <th>returns_3</th>\n",
       "      <th>returns_4</th>\n",
       "      <th>returns_5</th>\n",
       "      <th>returns_6</th>\n",
       "      <th>returns_7</th>\n",
       "      <th>returns_8</th>\n",
       "      <th>returns_9</th>\n",
       "      <th>...</th>\n",
       "      <th>returns_190</th>\n",
       "      <th>returns_191</th>\n",
       "      <th>returns_192</th>\n",
       "      <th>returns_193</th>\n",
       "      <th>returns_194</th>\n",
       "      <th>returns_195</th>\n",
       "      <th>returns_196</th>\n",
       "      <th>returns_197</th>\n",
       "      <th>returns_198</th>\n",
       "      <th>returns_199</th>\n",
       "    </tr>\n",
       "  </thead>\n",
       "  <tbody>\n",
       "    <tr>\n",
       "      <th>0</th>\n",
       "      <td>0.002995</td>\n",
       "      <td>-0.004362</td>\n",
       "      <td>-0.004129</td>\n",
       "      <td>-0.020466</td>\n",
       "      <td>0.013459</td>\n",
       "      <td>0.007028</td>\n",
       "      <td>-0.000214</td>\n",
       "      <td>0.002648</td>\n",
       "      <td>-0.007980</td>\n",
       "      <td>0.002707</td>\n",
       "      <td>...</td>\n",
       "      <td>-0.013140</td>\n",
       "      <td>0.003067</td>\n",
       "      <td>0.003760</td>\n",
       "      <td>0.009985</td>\n",
       "      <td>0.012641</td>\n",
       "      <td>-0.009363</td>\n",
       "      <td>-0.007350</td>\n",
       "      <td>-0.008705</td>\n",
       "      <td>-0.004904</td>\n",
       "      <td>0.006691</td>\n",
       "    </tr>\n",
       "    <tr>\n",
       "      <th>1</th>\n",
       "      <td>-0.002568</td>\n",
       "      <td>0.009432</td>\n",
       "      <td>0.003375</td>\n",
       "      <td>-0.005892</td>\n",
       "      <td>0.005052</td>\n",
       "      <td>-0.000336</td>\n",
       "      <td>0.009743</td>\n",
       "      <td>0.004493</td>\n",
       "      <td>-0.008744</td>\n",
       "      <td>-0.000153</td>\n",
       "      <td>...</td>\n",
       "      <td>-0.002185</td>\n",
       "      <td>0.004136</td>\n",
       "      <td>0.007223</td>\n",
       "      <td>0.001782</td>\n",
       "      <td>0.003506</td>\n",
       "      <td>0.004246</td>\n",
       "      <td>0.004620</td>\n",
       "      <td>-0.002381</td>\n",
       "      <td>-0.007820</td>\n",
       "      <td>0.003175</td>\n",
       "    </tr>\n",
       "    <tr>\n",
       "      <th>2</th>\n",
       "      <td>0.000311</td>\n",
       "      <td>-0.015051</td>\n",
       "      <td>-0.003754</td>\n",
       "      <td>-0.006017</td>\n",
       "      <td>0.003331</td>\n",
       "      <td>-0.001322</td>\n",
       "      <td>-0.002376</td>\n",
       "      <td>-0.002012</td>\n",
       "      <td>-0.002976</td>\n",
       "      <td>-0.009721</td>\n",
       "      <td>...</td>\n",
       "      <td>0.016828</td>\n",
       "      <td>-0.013438</td>\n",
       "      <td>-0.006910</td>\n",
       "      <td>-0.015117</td>\n",
       "      <td>-0.015789</td>\n",
       "      <td>-0.002656</td>\n",
       "      <td>0.003602</td>\n",
       "      <td>0.003721</td>\n",
       "      <td>-0.002576</td>\n",
       "      <td>-0.004197</td>\n",
       "    </tr>\n",
       "    <tr>\n",
       "      <th>3</th>\n",
       "      <td>-0.002779</td>\n",
       "      <td>0.001743</td>\n",
       "      <td>-0.006816</td>\n",
       "      <td>0.000238</td>\n",
       "      <td>-0.006694</td>\n",
       "      <td>-0.003530</td>\n",
       "      <td>-0.001437</td>\n",
       "      <td>-0.003515</td>\n",
       "      <td>-0.007068</td>\n",
       "      <td>0.003846</td>\n",
       "      <td>...</td>\n",
       "      <td>0.007889</td>\n",
       "      <td>-0.014719</td>\n",
       "      <td>0.005889</td>\n",
       "      <td>0.000079</td>\n",
       "      <td>-0.012863</td>\n",
       "      <td>-0.004476</td>\n",
       "      <td>-0.009256</td>\n",
       "      <td>0.000053</td>\n",
       "      <td>0.004609</td>\n",
       "      <td>-0.002439</td>\n",
       "    </tr>\n",
       "    <tr>\n",
       "      <th>4</th>\n",
       "      <td>-0.025510</td>\n",
       "      <td>0.006620</td>\n",
       "      <td>0.024813</td>\n",
       "      <td>-0.005176</td>\n",
       "      <td>0.003663</td>\n",
       "      <td>0.008940</td>\n",
       "      <td>-0.004230</td>\n",
       "      <td>0.004872</td>\n",
       "      <td>0.021283</td>\n",
       "      <td>0.014451</td>\n",
       "      <td>...</td>\n",
       "      <td>0.002421</td>\n",
       "      <td>0.003370</td>\n",
       "      <td>0.017635</td>\n",
       "      <td>-0.005388</td>\n",
       "      <td>0.015737</td>\n",
       "      <td>-0.012667</td>\n",
       "      <td>-0.007870</td>\n",
       "      <td>0.013892</td>\n",
       "      <td>-0.016554</td>\n",
       "      <td>-0.011122</td>\n",
       "    </tr>\n",
       "  </tbody>\n",
       "</table>\n",
       "<p>5 rows × 200 columns</p>\n",
       "</div>"
      ],
      "text/plain": [
       "   returns_0  returns_1  returns_2  returns_3  returns_4  returns_5  \\\n",
       "0   0.002995  -0.004362  -0.004129  -0.020466   0.013459   0.007028   \n",
       "1  -0.002568   0.009432   0.003375  -0.005892   0.005052  -0.000336   \n",
       "2   0.000311  -0.015051  -0.003754  -0.006017   0.003331  -0.001322   \n",
       "3  -0.002779   0.001743  -0.006816   0.000238  -0.006694  -0.003530   \n",
       "4  -0.025510   0.006620   0.024813  -0.005176   0.003663   0.008940   \n",
       "\n",
       "   returns_6  returns_7  returns_8  returns_9  ...  returns_190  returns_191  \\\n",
       "0  -0.000214   0.002648  -0.007980   0.002707  ...    -0.013140     0.003067   \n",
       "1   0.009743   0.004493  -0.008744  -0.000153  ...    -0.002185     0.004136   \n",
       "2  -0.002376  -0.002012  -0.002976  -0.009721  ...     0.016828    -0.013438   \n",
       "3  -0.001437  -0.003515  -0.007068   0.003846  ...     0.007889    -0.014719   \n",
       "4  -0.004230   0.004872   0.021283   0.014451  ...     0.002421     0.003370   \n",
       "\n",
       "   returns_192  returns_193  returns_194  returns_195  returns_196  \\\n",
       "0     0.003760     0.009985     0.012641    -0.009363    -0.007350   \n",
       "1     0.007223     0.001782     0.003506     0.004246     0.004620   \n",
       "2    -0.006910    -0.015117    -0.015789    -0.002656     0.003602   \n",
       "3     0.005889     0.000079    -0.012863    -0.004476    -0.009256   \n",
       "4     0.017635    -0.005388     0.015737    -0.012667    -0.007870   \n",
       "\n",
       "   returns_197  returns_198  returns_199  \n",
       "0    -0.008705    -0.004904     0.006691  \n",
       "1    -0.002381    -0.007820     0.003175  \n",
       "2     0.003721    -0.002576    -0.004197  \n",
       "3     0.000053     0.004609    -0.002439  \n",
       "4     0.013892    -0.016554    -0.011122  \n",
       "\n",
       "[5 rows x 200 columns]"
      ]
     },
     "execution_count": 126,
     "metadata": {},
     "output_type": "execute_result"
    }
   ],
   "source": [
    "simulated_portfolios.head()"
   ]
  },
  {
   "cell_type": "code",
   "execution_count": 127,
   "id": "272f5439-ad9f-4858-b0dc-7ec04d38e4ca",
   "metadata": {},
   "outputs": [],
   "source": [
    "percentile_5th = simulated_portfolios.cumsum().apply(lambda x : np.percentile(x,5),axis=1)\n",
    "percentile_95th = simulated_portfolios.cumsum().apply(lambda x : np.percentile(x,95),axis=1)\n",
    "average_port = simulated_portfolios.cumsum().apply(lambda x : np.mean(x),axis=1)"
   ]
  },
  {
   "cell_type": "code",
   "execution_count": 128,
   "id": "4a58b26a-ae9a-42d3-8ebc-a754cf069f7d",
   "metadata": {},
   "outputs": [
    {
     "name": "stdout",
     "output_type": "stream",
     "text": [
      "1094   -1.477159\n",
      "dtype: float64\n",
      "1094   -0.417075\n",
      "dtype: float64\n",
      "1094   -0.949482\n",
      "dtype: float64\n"
     ]
    }
   ],
   "source": [
    "print(percentile_5th.tail(1))\n",
    "print(percentile_95th.tail(1))\n",
    "print(average_port.tail(1))"
   ]
  },
  {
   "cell_type": "code",
   "execution_count": 137,
   "id": "dcfca9a1-b10a-44e3-82c7-c8d4ed62a225",
   "metadata": {},
   "outputs": [
    {
     "data": {
      "image/png": "[encoded data removed]",
      "text/plain": [
       "<Figure size 1000x2000 with 1 Axes>"
      ]
     },
     "metadata": {},
     "output_type": "display_data"
    }
   ],
   "source": [
    "x = range(1095)\n",
    "\n",
    "plt.rcParams['figure.figsize'] = [10, 20]\n",
    "\n",
    "plt.plot(x,average_port,label=\"Average portfolio\")\n",
    "plt.xlabel(\"Day\")\n",
    "plt.ylabel(\"Portfolio return\")\n",
    "\n",
    "\n",
    "plt.fill_between(x, percentile_5th, percentile_95th,alpha=0.2)\n",
    "plt.grid()\n",
    "plt.legend()\n",
    "\n",
    "plt.show()"
   ]
  },
  {
   "cell_type": "code",
   "execution_count": 138,
   "id": "791f1111-5745-4339-bf0f-28fcf38a2add",
   "metadata": {},
   "outputs": [],
   "source": [
    "\n",
    "target_return = 0.02\n",
    "\n",
    "target_prob_port = simulated_portfolios.cumsum().apply(lambda x : np.mean(x > target_return),axis=1)"
   ]
  },
  {
   "cell_type": "code",
   "execution_count": 139,
   "id": "36c882c3-9062-42e2-814a-e1f4c03002f3",
   "metadata": {},
   "outputs": [
    {
     "data": {
      "text/plain": [
       "1094    0.0\n",
       "dtype: float64"
      ]
     },
     "execution_count": 139,
     "metadata": {},
     "output_type": "execute_result"
    }
   ],
   "source": [
    "target_prob_port.tail(1)"
   ]
  },
  {
   "cell_type": "code",
   "execution_count": 140,
   "id": "bd849b88-bcd5-4849-9dd0-3b887e47308b",
   "metadata": {},
   "outputs": [],
   "source": [
    "err_bars = np.sqrt(target_prob_port*(1-target_prob_port)/10)"
   ]
  },
  {
   "cell_type": "code",
   "execution_count": 141,
   "id": "37c4ccce-900b-4aa8-b264-65c86a5119a2",
   "metadata": {},
   "outputs": [
    {
     "data": {
      "text/plain": [
       "1094    0.0\n",
       "dtype: float64"
      ]
     },
     "execution_count": 141,
     "metadata": {},
     "output_type": "execute_result"
    }
   ],
   "source": [
    "err_bars.tail(1)"
   ]
  },
  {
   "cell_type": "code",
   "execution_count": 143,
   "id": "1f226045-95b2-4e9b-8577-f1817dbda5f0",
   "metadata": {},
   "outputs": [
    {
     "data": {
      "image/png": "[encoded data removed]",
      "text/plain": [
       "<Figure size 1000x1000 with 1 Axes>"
      ]
     },
     "metadata": {},
     "output_type": "display_data"
    }
   ],
   "source": [
    "x = range(1095)\n",
    "\n",
    "plt.rcParams['figure.figsize'] = [10, 10]\n",
    "\n",
    "plt.bar(x,target_prob_port,yerr = err_bars)\n",
    "\n",
    "plt.xlabel(\"Day\")\n",
    "plt.ylabel(\"Probability of return >= %.2f\" % (target_return))\n",
    "\n",
    "plt.grid()\n",
    "\n",
    "plt.show()"
   ]
  },
  {
   "cell_type": "code",
   "execution_count": 144,
   "id": "4c667672-6242-41e3-82b6-3b46037ab2a6",
   "metadata": {},
   "outputs": [],
   "source": [
    "sharpe_indices = simulated_portfolios.apply(lambda x : np.mean(x)/np.std(x))"
   ]
  },
  {
   "cell_type": "code",
   "execution_count": 145,
   "id": "3b691280-b1de-457a-8101-3312fa47be91",
   "metadata": {},
   "outputs": [
    {
     "data": {
      "image/png": "[encoded data removed]",
      "text/plain": [
       "<Figure size 1000x1000 with 1 Axes>"
      ]
     },
     "metadata": {},
     "output_type": "display_data"
    }
   ],
   "source": [
    "plt.hist(sharpe_indices,bins=\"rice\")\n",
    "plt.xlabel(\"Sharpe ratio\")\n",
    "\n",
    "plt.show()"
   ]
  },
  {
   "cell_type": "code",
   "execution_count": 146,
   "id": "302a9d67-bae7-4022-853e-d68fdbfa24e2",
   "metadata": {},
   "outputs": [
    {
     "data": {
      "text/plain": [
       "-0.09203666361671821"
      ]
     },
     "execution_count": 146,
     "metadata": {},
     "output_type": "execute_result"
    }
   ],
   "source": [
    "np.mean(sharpe_indices)"
   ]
  },
  {
   "cell_type": "code",
   "execution_count": null,
   "id": "6d64a2fa-5169-4f0a-8dcd-e9a68d397205",
   "metadata": {},
   "outputs": [],
   "source": []
  },
  {
   "cell_type": "code",
   "execution_count": null,
   "id": "b78634fd-5924-4aee-b900-0c993693718e",
   "metadata": {},
   "outputs": [],
   "source": []
  }
 ],
 "metadata": {
  "kernelspec": {
   "display_name": "Python 3.8.8",
   "language": "python",
   "name": "p38"
  },
  "language_info": {
   "codemirror_mode": {
    "name": "ipython",
    "version": 3
   },
   "file_extension": ".py",
   "mimetype": "text/x-python",
   "name": "python",
   "nbconvert_exporter": "python",
   "pygments_lexer": "ipython3",
   "version": "3.8.11"
  }
 },
 "nbformat": 4,
 "nbformat_minor": 5
}
