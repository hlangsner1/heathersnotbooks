{
 "cells": [
  {
   "cell_type": "code",
   "execution_count": 1,
   "id": "5dedd243-145f-457e-a9c9-2575ba029954",
   "metadata": {},
   "outputs": [],
   "source": [
    "import yfinance\n",
    "import pandas as pd\n",
    "import numpy as np\n",
    "\n",
    "import matplotlib.pyplot as plt"
   ]
  },
  {
   "cell_type": "code",
   "execution_count": 34,
   "id": "fea15766-14fb-403b-94eb-69e2c220734c",
   "metadata": {},
   "outputs": [],
   "source": [
    "portfolio_composition = [('PSX',0.5),('DOW',0.2),('EMN',0.3)]\n",
    "\n",
    "returns = pd.DataFrame({})"
   ]
  },
  {
   "cell_type": "code",
   "execution_count": 35,
   "id": "1860f16b-7fa0-4471-9852-ba8eef30ac6f",
   "metadata": {},
   "outputs": [],
   "source": [
    "for t in portfolio_composition:\n",
    "  name = t[0]\n",
    "  ticker = yfinance.Ticker(name)\n",
    "  data = ticker.history(interval=\"1d\",start=\"2021-02-10\",end=\"2021-02-27\")\n",
    "  data['return_%s' % (name)] = data['Close'].pct_change(1)\n",
    "\n",
    "  returns = returns.join(data[['return_%s' % (name)]],how=\"outer\").dropna()"
   ]
  },
  {
   "cell_type": "code",
   "execution_count": 36,
   "id": "37197bea-267d-486a-bbf2-5e1c889e2df0",
   "metadata": {},
   "outputs": [
    {
     "data": {
      "text/html": [
       "<div>\n",
       "<style scoped>\n",
       "    .dataframe tbody tr th:only-of-type {\n",
       "        vertical-align: middle;\n",
       "    }\n",
       "\n",
       "    .dataframe tbody tr th {\n",
       "        vertical-align: top;\n",
       "    }\n",
       "\n",
       "    .dataframe thead th {\n",
       "        text-align: right;\n",
       "    }\n",
       "</style>\n",
       "<table border=\"1\" class=\"dataframe\">\n",
       "  <thead>\n",
       "    <tr style=\"text-align: right;\">\n",
       "      <th></th>\n",
       "      <th>return_PSX</th>\n",
       "      <th>return_DOW</th>\n",
       "      <th>return_EMN</th>\n",
       "    </tr>\n",
       "    <tr>\n",
       "      <th>Date</th>\n",
       "      <th></th>\n",
       "      <th></th>\n",
       "      <th></th>\n",
       "    </tr>\n",
       "  </thead>\n",
       "  <tbody>\n",
       "    <tr>\n",
       "      <th>2021-02-11</th>\n",
       "      <td>0.006778</td>\n",
       "      <td>0.000000</td>\n",
       "      <td>0.013130</td>\n",
       "    </tr>\n",
       "    <tr>\n",
       "      <th>2021-02-12</th>\n",
       "      <td>-0.000129</td>\n",
       "      <td>0.008323</td>\n",
       "      <td>0.025827</td>\n",
       "    </tr>\n",
       "    <tr>\n",
       "      <th>2021-02-16</th>\n",
       "      <td>0.027968</td>\n",
       "      <td>0.010318</td>\n",
       "      <td>0.009979</td>\n",
       "    </tr>\n",
       "    <tr>\n",
       "      <th>2021-02-17</th>\n",
       "      <td>0.015745</td>\n",
       "      <td>-0.003574</td>\n",
       "      <td>-0.000634</td>\n",
       "    </tr>\n",
       "    <tr>\n",
       "      <th>2021-02-18</th>\n",
       "      <td>-0.007316</td>\n",
       "      <td>-0.016741</td>\n",
       "      <td>-0.012608</td>\n",
       "    </tr>\n",
       "    <tr>\n",
       "      <th>2021-02-19</th>\n",
       "      <td>0.039924</td>\n",
       "      <td>0.049166</td>\n",
       "      <td>0.028110</td>\n",
       "    </tr>\n",
       "    <tr>\n",
       "      <th>2021-02-22</th>\n",
       "      <td>0.020046</td>\n",
       "      <td>0.034608</td>\n",
       "      <td>0.013313</td>\n",
       "    </tr>\n",
       "    <tr>\n",
       "      <th>2021-02-23</th>\n",
       "      <td>0.018699</td>\n",
       "      <td>-0.005762</td>\n",
       "      <td>-0.009258</td>\n",
       "    </tr>\n",
       "    <tr>\n",
       "      <th>2021-02-24</th>\n",
       "      <td>0.020110</td>\n",
       "      <td>0.025274</td>\n",
       "      <td>0.008989</td>\n",
       "    </tr>\n",
       "    <tr>\n",
       "      <th>2021-02-25</th>\n",
       "      <td>-0.029914</td>\n",
       "      <td>-0.026036</td>\n",
       "      <td>-0.028314</td>\n",
       "    </tr>\n",
       "    <tr>\n",
       "      <th>2021-02-26</th>\n",
       "      <td>-0.018785</td>\n",
       "      <td>-0.033252</td>\n",
       "      <td>-0.008170</td>\n",
       "    </tr>\n",
       "  </tbody>\n",
       "</table>\n",
       "</div>"
      ],
      "text/plain": [
       "            return_PSX  return_DOW  return_EMN\n",
       "Date                                          \n",
       "2021-02-11    0.006778    0.000000    0.013130\n",
       "2021-02-12   -0.000129    0.008323    0.025827\n",
       "2021-02-16    0.027968    0.010318    0.009979\n",
       "2021-02-17    0.015745   -0.003574   -0.000634\n",
       "2021-02-18   -0.007316   -0.016741   -0.012608\n",
       "2021-02-19    0.039924    0.049166    0.028110\n",
       "2021-02-22    0.020046    0.034608    0.013313\n",
       "2021-02-23    0.018699   -0.005762   -0.009258\n",
       "2021-02-24    0.020110    0.025274    0.008989\n",
       "2021-02-25   -0.029914   -0.026036   -0.028314\n",
       "2021-02-26   -0.018785   -0.033252   -0.008170"
      ]
     },
     "execution_count": 36,
     "metadata": {},
     "output_type": "execute_result"
    }
   ],
   "source": [
    "returns"
   ]
  },
  {
   "cell_type": "code",
   "execution_count": 37,
   "id": "f11fa761-cdcf-48ba-b4f3-005c7e60ae61",
   "metadata": {},
   "outputs": [],
   "source": [
    "def simulate_returns(historical_returns,forecast_days):\n",
    "  return historical_returns.sample(n = 20, replace = True).reset_index(drop = True)"
   ]
  },
  {
   "cell_type": "code",
   "execution_count": 41,
   "id": "7141f07d-163d-4ac5-83b8-7644cb5e8bb2",
   "metadata": {},
   "outputs": [
    {
     "data": {
      "text/plain": [
       "0    -0.003574\n",
       "1    -0.003574\n",
       "2     0.049166\n",
       "3    -0.026036\n",
       "4     0.025274\n",
       "5     0.000000\n",
       "6     0.008323\n",
       "7     0.049166\n",
       "8    -0.003574\n",
       "9    -0.026036\n",
       "10   -0.033252\n",
       "11    0.049166\n",
       "12   -0.003574\n",
       "13   -0.026036\n",
       "14    0.034608\n",
       "15    0.000000\n",
       "16    0.025274\n",
       "17   -0.005762\n",
       "18   -0.033252\n",
       "19    0.008323\n",
       "Name: return_DOW, dtype: float64"
      ]
     },
     "execution_count": 41,
     "metadata": {},
     "output_type": "execute_result"
    }
   ],
   "source": [
    "simulate_returns(returns['return_DOW'],1000)"
   ]
  },
  {
   "cell_type": "code",
   "execution_count": 42,
   "id": "3a020fc3-f5e6-4c6b-bb3a-ca762bef800d",
   "metadata": {},
   "outputs": [],
   "source": [
    "def simulate_portfolio(historical_returns,composition,forecast_days):\n",
    "  result = 0\n",
    "  for t in composition:\n",
    "    name,weight = t[0],t[1]\n",
    "    s = simulate_returns(historical_returns['return_%s' % (name)], forecast_days)\n",
    "    result = result + s * weight\n",
    "  \n",
    "  return(result)"
   ]
  },
  {
   "cell_type": "code",
   "execution_count": 43,
   "id": "56bb5623-4b23-4661-b8ca-7130da8506c8",
   "metadata": {},
   "outputs": [
    {
     "data": {
      "text/plain": [
       "0     0.008755\n",
       "1     0.009529\n",
       "2     0.012832\n",
       "3     0.002214\n",
       "4    -0.001675\n",
       "5     0.026931\n",
       "6    -0.000268\n",
       "7     0.006485\n",
       "8     0.021060\n",
       "9     0.012957\n",
       "10    0.012234\n",
       "11    0.016359\n",
       "12   -0.017051\n",
       "13    0.004090\n",
       "14   -0.006905\n",
       "15    0.005755\n",
       "16    0.000611\n",
       "17   -0.017051\n",
       "18   -0.007723\n",
       "19   -0.013618\n",
       "dtype: float64"
      ]
     },
     "execution_count": 43,
     "metadata": {},
     "output_type": "execute_result"
    }
   ],
   "source": [
    "simulate_portfolio(returns,portfolio_composition,10)"
   ]
  },
  {
   "cell_type": "code",
   "execution_count": 44,
   "id": "314a7cc0-dbe6-4f65-8944-8eb945c27e85",
   "metadata": {},
   "outputs": [],
   "source": [
    "def simulate_modified_returns(historical_returns,forecast_days):\n",
    "  h = historical_returns.copy()\n",
    "\n",
    "  new_series = h \n",
    "\n",
    "  return new_series.sample(n=forecast_days,replace=True).reset_index(drop=True)"
   ]
  },
  {
   "cell_type": "code",
   "execution_count": 45,
   "id": "9ba162a8-29f0-4307-906c-8d159123de21",
   "metadata": {},
   "outputs": [],
   "source": [
    "def simulate_modified_portfolio(historical_returns,composition,forecast_days):\n",
    "  result = 0\n",
    "  for t in composition:\n",
    "        # t is ('XOM',0.5)\n",
    "    name,weight = t[0],t[1]\n",
    "    s = simulate_modified_returns(historical_returns['return_%s' % (name)], forecast_days)\n",
    "    result = result + s * weight\n",
    "  \n",
    "  return(result)"
   ]
  },
  {
   "cell_type": "code",
   "execution_count": 46,
   "id": "8b2a5a3c-e72f-4ac7-a7d2-8e6b76db0164",
   "metadata": {},
   "outputs": [],
   "source": [
    "def simulation(historical_returns,composition,forecast_days,n_iterations):\n",
    "  simulated_portfolios = None\n",
    "\n",
    "  for i in range(n_iterations):\n",
    "    sim = simulate_modified_portfolio(historical_returns,composition,forecast_days)\n",
    "\n",
    "    sim_port = pd.DataFrame({'returns_%d' % (i) : sim})\n",
    "\n",
    "    if simulated_portfolios is None:\n",
    "      simulated_portfolios = sim_port\n",
    "    else:\n",
    "      simulated_portfolios = simulated_portfolios.join(sim_port)\n",
    "    \n",
    "  return simulated_portfolios"
   ]
  },
  {
   "cell_type": "code",
   "execution_count": 47,
   "id": "5e25a590-e64f-4ced-8fcc-68b7cd6b50d7",
   "metadata": {},
   "outputs": [],
   "source": [
    "#simulations with corrections"
   ]
  },
  {
   "cell_type": "code",
   "execution_count": 48,
   "id": "aecf669f-628c-40c6-9d7f-ce92a92c3d41",
   "metadata": {},
   "outputs": [
    {
     "data": {
      "text/plain": [
       "return_PSX    0.008466\n",
       "return_DOW    0.003848\n",
       "return_EMN    0.003669\n",
       "dtype: float64"
      ]
     },
     "execution_count": 48,
     "metadata": {},
     "output_type": "execute_result"
    }
   ],
   "source": [
    "returns.mean(axis=0)"
   ]
  },
  {
   "cell_type": "code",
   "execution_count": 112,
   "id": "6dc2be74-897e-4c86-8c5a-43793d8a6083",
   "metadata": {},
   "outputs": [],
   "source": [
    "portfolio_composition = [('PSX', 0.09,-0.20), ('DOW', 0.05,-0.15), ('EMN', 0.06,-0.25)]"
   ]
  },
  {
   "cell_type": "code",
   "execution_count": 113,
   "id": "5bc4f3ab-bfca-4a0b-b0cf-1b88cc544e52",
   "metadata": {},
   "outputs": [],
   "source": [
    "forecast_days = 260\n",
    "n_iterations = 200"
   ]
  },
  {
   "cell_type": "code",
   "execution_count": 114,
   "id": "ca9017df-bb6a-4e7d-97c7-b1f68690ca54",
   "metadata": {},
   "outputs": [],
   "source": [
    "simulated_portfolios = simulation(returns,portfolio_composition,forecast_days,n_iterations)"
   ]
  },
  {
   "cell_type": "code",
   "execution_count": 115,
   "id": "6cd8e915-ddfa-4b18-a523-cbfa0d3bec38",
   "metadata": {},
   "outputs": [
    {
     "data": {
      "text/html": [
       "<div>\n",
       "<style scoped>\n",
       "    .dataframe tbody tr th:only-of-type {\n",
       "        vertical-align: middle;\n",
       "    }\n",
       "\n",
       "    .dataframe tbody tr th {\n",
       "        vertical-align: top;\n",
       "    }\n",
       "\n",
       "    .dataframe thead th {\n",
       "        text-align: right;\n",
       "    }\n",
       "</style>\n",
       "<table border=\"1\" class=\"dataframe\">\n",
       "  <thead>\n",
       "    <tr style=\"text-align: right;\">\n",
       "      <th></th>\n",
       "      <th>returns_0</th>\n",
       "      <th>returns_1</th>\n",
       "      <th>returns_2</th>\n",
       "      <th>returns_3</th>\n",
       "      <th>returns_4</th>\n",
       "      <th>returns_5</th>\n",
       "      <th>returns_6</th>\n",
       "      <th>returns_7</th>\n",
       "      <th>returns_8</th>\n",
       "      <th>returns_9</th>\n",
       "      <th>...</th>\n",
       "      <th>returns_190</th>\n",
       "      <th>returns_191</th>\n",
       "      <th>returns_192</th>\n",
       "      <th>returns_193</th>\n",
       "      <th>returns_194</th>\n",
       "      <th>returns_195</th>\n",
       "      <th>returns_196</th>\n",
       "      <th>returns_197</th>\n",
       "      <th>returns_198</th>\n",
       "      <th>returns_199</th>\n",
       "    </tr>\n",
       "  </thead>\n",
       "  <tbody>\n",
       "    <tr>\n",
       "      <th>0</th>\n",
       "      <td>-0.006054</td>\n",
       "      <td>0.000111</td>\n",
       "      <td>0.002939</td>\n",
       "      <td>0.001690</td>\n",
       "      <td>0.001127</td>\n",
       "      <td>-0.002391</td>\n",
       "      <td>0.002195</td>\n",
       "      <td>0.000482</td>\n",
       "      <td>0.002676</td>\n",
       "      <td>0.001209</td>\n",
       "      <td>...</td>\n",
       "      <td>0.001825</td>\n",
       "      <td>-0.003206</td>\n",
       "      <td>-0.001667</td>\n",
       "      <td>0.003617</td>\n",
       "      <td>-0.000298</td>\n",
       "      <td>0.001766</td>\n",
       "      <td>-0.000698</td>\n",
       "      <td>0.000375</td>\n",
       "      <td>-0.003556</td>\n",
       "      <td>-0.000990</td>\n",
       "    </tr>\n",
       "    <tr>\n",
       "      <th>1</th>\n",
       "      <td>0.000861</td>\n",
       "      <td>0.004720</td>\n",
       "      <td>0.001917</td>\n",
       "      <td>0.001121</td>\n",
       "      <td>0.000573</td>\n",
       "      <td>0.003253</td>\n",
       "      <td>0.002819</td>\n",
       "      <td>0.000725</td>\n",
       "      <td>0.000553</td>\n",
       "      <td>0.000603</td>\n",
       "      <td>...</td>\n",
       "      <td>0.000808</td>\n",
       "      <td>0.000725</td>\n",
       "      <td>0.003555</td>\n",
       "      <td>0.000277</td>\n",
       "      <td>-0.000465</td>\n",
       "      <td>0.000593</td>\n",
       "      <td>-0.001999</td>\n",
       "      <td>0.003158</td>\n",
       "      <td>0.001366</td>\n",
       "      <td>0.002721</td>\n",
       "    </tr>\n",
       "    <tr>\n",
       "      <th>2</th>\n",
       "      <td>-0.000798</td>\n",
       "      <td>-0.001119</td>\n",
       "      <td>0.003349</td>\n",
       "      <td>0.004230</td>\n",
       "      <td>0.003625</td>\n",
       "      <td>-0.004110</td>\n",
       "      <td>0.001836</td>\n",
       "      <td>-0.001557</td>\n",
       "      <td>0.000627</td>\n",
       "      <td>0.000090</td>\n",
       "      <td>...</td>\n",
       "      <td>0.002998</td>\n",
       "      <td>0.003253</td>\n",
       "      <td>-0.000234</td>\n",
       "      <td>0.000808</td>\n",
       "      <td>0.001307</td>\n",
       "      <td>0.000496</td>\n",
       "      <td>0.000905</td>\n",
       "      <td>0.001014</td>\n",
       "      <td>-0.000853</td>\n",
       "      <td>0.004219</td>\n",
       "    </tr>\n",
       "    <tr>\n",
       "      <th>3</th>\n",
       "      <td>-0.001161</td>\n",
       "      <td>0.005812</td>\n",
       "      <td>0.003613</td>\n",
       "      <td>0.001318</td>\n",
       "      <td>-0.001339</td>\n",
       "      <td>0.003454</td>\n",
       "      <td>0.003191</td>\n",
       "      <td>0.002578</td>\n",
       "      <td>0.003071</td>\n",
       "      <td>0.003312</td>\n",
       "      <td>...</td>\n",
       "      <td>0.001404</td>\n",
       "      <td>0.002479</td>\n",
       "      <td>-0.003248</td>\n",
       "      <td>0.004100</td>\n",
       "      <td>0.003025</td>\n",
       "      <td>0.000397</td>\n",
       "      <td>0.004474</td>\n",
       "      <td>0.001766</td>\n",
       "      <td>0.004025</td>\n",
       "      <td>0.005796</td>\n",
       "    </tr>\n",
       "    <tr>\n",
       "      <th>4</th>\n",
       "      <td>0.003619</td>\n",
       "      <td>0.004740</td>\n",
       "      <td>0.001512</td>\n",
       "      <td>0.001836</td>\n",
       "      <td>0.000638</td>\n",
       "      <td>-0.003012</td>\n",
       "      <td>0.004808</td>\n",
       "      <td>0.001204</td>\n",
       "      <td>0.002395</td>\n",
       "      <td>0.000299</td>\n",
       "      <td>...</td>\n",
       "      <td>0.002798</td>\n",
       "      <td>0.002188</td>\n",
       "      <td>0.002549</td>\n",
       "      <td>0.002599</td>\n",
       "      <td>0.001801</td>\n",
       "      <td>0.002288</td>\n",
       "      <td>-0.002332</td>\n",
       "      <td>0.001473</td>\n",
       "      <td>-0.003391</td>\n",
       "      <td>-0.000109</td>\n",
       "    </tr>\n",
       "  </tbody>\n",
       "</table>\n",
       "<p>5 rows × 200 columns</p>\n",
       "</div>"
      ],
      "text/plain": [
       "   returns_0  returns_1  returns_2  returns_3  returns_4  returns_5  \\\n",
       "0  -0.006054   0.000111   0.002939   0.001690   0.001127  -0.002391   \n",
       "1   0.000861   0.004720   0.001917   0.001121   0.000573   0.003253   \n",
       "2  -0.000798  -0.001119   0.003349   0.004230   0.003625  -0.004110   \n",
       "3  -0.001161   0.005812   0.003613   0.001318  -0.001339   0.003454   \n",
       "4   0.003619   0.004740   0.001512   0.001836   0.000638  -0.003012   \n",
       "\n",
       "   returns_6  returns_7  returns_8  returns_9  ...  returns_190  returns_191  \\\n",
       "0   0.002195   0.000482   0.002676   0.001209  ...     0.001825    -0.003206   \n",
       "1   0.002819   0.000725   0.000553   0.000603  ...     0.000808     0.000725   \n",
       "2   0.001836  -0.001557   0.000627   0.000090  ...     0.002998     0.003253   \n",
       "3   0.003191   0.002578   0.003071   0.003312  ...     0.001404     0.002479   \n",
       "4   0.004808   0.001204   0.002395   0.000299  ...     0.002798     0.002188   \n",
       "\n",
       "   returns_192  returns_193  returns_194  returns_195  returns_196  \\\n",
       "0    -0.001667     0.003617    -0.000298     0.001766    -0.000698   \n",
       "1     0.003555     0.000277    -0.000465     0.000593    -0.001999   \n",
       "2    -0.000234     0.000808     0.001307     0.000496     0.000905   \n",
       "3    -0.003248     0.004100     0.003025     0.000397     0.004474   \n",
       "4     0.002549     0.002599     0.001801     0.002288    -0.002332   \n",
       "\n",
       "   returns_197  returns_198  returns_199  \n",
       "0     0.000375    -0.003556    -0.000990  \n",
       "1     0.003158     0.001366     0.002721  \n",
       "2     0.001014    -0.000853     0.004219  \n",
       "3     0.001766     0.004025     0.005796  \n",
       "4     0.001473    -0.003391    -0.000109  \n",
       "\n",
       "[5 rows x 200 columns]"
      ]
     },
     "execution_count": 115,
     "metadata": {},
     "output_type": "execute_result"
    }
   ],
   "source": [
    "simulated_portfolios.head()"
   ]
  },
  {
   "cell_type": "code",
   "execution_count": 116,
   "id": "272f5439-ad9f-4858-b0dc-7ec04d38e4ca",
   "metadata": {},
   "outputs": [],
   "source": [
    "percentile_5th = simulated_portfolios.cumsum().apply(lambda x : np.percentile(x,5),axis=1)\n",
    "percentile_95th = simulated_portfolios.cumsum().apply(lambda x : np.percentile(x,95),axis=1)\n",
    "average_port = simulated_portfolios.cumsum().apply(lambda x : np.mean(x),axis=1)"
   ]
  },
  {
   "cell_type": "code",
   "execution_count": 117,
   "id": "4a58b26a-ae9a-42d3-8ebc-a754cf069f7d",
   "metadata": {},
   "outputs": [
    {
     "name": "stdout",
     "output_type": "stream",
     "text": [
      "259    0.242946\n",
      "dtype: float64\n",
      "259    0.371075\n",
      "dtype: float64\n",
      "259    0.307095\n",
      "dtype: float64\n"
     ]
    }
   ],
   "source": [
    "print(percentile_5th.tail(1))\n",
    "print(percentile_95th.tail(1))\n",
    "print(average_port.tail(1))"
   ]
  },
  {
   "cell_type": "code",
   "execution_count": 118,
   "id": "9383866e-7c57-4ecc-8f9e-277a40e245a8",
   "metadata": {},
   "outputs": [],
   "source": [
    "#confidence interval for future portfolios"
   ]
  },
  {
   "cell_type": "code",
   "execution_count": 119,
   "id": "dcfca9a1-b10a-44e3-82c7-c8d4ed62a225",
   "metadata": {},
   "outputs": [
    {
     "data": {
      "image/png": "[encoded data removed]",
      "text/plain": [
       "<Figure size 500x500 with 1 Axes>"
      ]
     },
     "metadata": {},
     "output_type": "display_data"
    }
   ],
   "source": [
    "x = range(forecast_days)\n",
    "\n",
    "plt.rcParams['figure.figsize'] = [5, 5]\n",
    "\n",
    "plt.plot(x,average_port,label=\"Average portfolio\")\n",
    "plt.xlabel(\"Day\")\n",
    "plt.ylabel(\"Portfolio return\")\n",
    "\n",
    "\n",
    "plt.fill_between(x, percentile_5th, percentile_95th,alpha=0.2)\n",
    "plt.grid()\n",
    "plt.legend()\n",
    "\n",
    "plt.show()"
   ]
  },
  {
   "cell_type": "code",
   "execution_count": 120,
   "id": "1ada7b97-2218-4b49-a241-940f8b747698",
   "metadata": {},
   "outputs": [],
   "source": [
    "#confidence interval"
   ]
  },
  {
   "cell_type": "code",
   "execution_count": 121,
   "id": "791f1111-5745-4339-bf0f-28fcf38a2add",
   "metadata": {},
   "outputs": [],
   "source": [
    "\n",
    "target_return = 0.02\n",
    "\n",
    "target_prob_port = simulated_portfolios.cumsum().apply(lambda x : np.mean(x > target_return),axis=1)"
   ]
  },
  {
   "cell_type": "code",
   "execution_count": 122,
   "id": "36c882c3-9062-42e2-814a-e1f4c03002f3",
   "metadata": {},
   "outputs": [
    {
     "data": {
      "text/plain": [
       "259    1.0\n",
       "dtype: float64"
      ]
     },
     "execution_count": 122,
     "metadata": {},
     "output_type": "execute_result"
    }
   ],
   "source": [
    "target_prob_port.tail(1)"
   ]
  },
  {
   "cell_type": "code",
   "execution_count": 123,
   "id": "bd849b88-bcd5-4849-9dd0-3b887e47308b",
   "metadata": {},
   "outputs": [],
   "source": [
    "err_bars = np.sqrt(target_prob_port*(1-target_prob_port)/10)"
   ]
  },
  {
   "cell_type": "code",
   "execution_count": 124,
   "id": "37c4ccce-900b-4aa8-b264-65c86a5119a2",
   "metadata": {},
   "outputs": [
    {
     "data": {
      "text/plain": [
       "259    0.0\n",
       "dtype: float64"
      ]
     },
     "execution_count": 124,
     "metadata": {},
     "output_type": "execute_result"
    }
   ],
   "source": [
    "err_bars.tail(1)"
   ]
  },
  {
   "cell_type": "code",
   "execution_count": 125,
   "id": "1f226045-95b2-4e9b-8577-f1817dbda5f0",
   "metadata": {},
   "outputs": [
    {
     "data": {
      "image/png": "[encoded data removed]",
      "text/plain": [
       "<Figure size 500x500 with 1 Axes>"
      ]
     },
     "metadata": {},
     "output_type": "display_data"
    }
   ],
   "source": [
    "x = range(forecast_days)\n",
    "\n",
    "plt.rcParams['figure.figsize'] = [5, 5]\n",
    "\n",
    "plt.bar(x,target_prob_port,yerr = err_bars)\n",
    "\n",
    "plt.xlabel(\"Day\")\n",
    "plt.ylabel(\"Probability of return >= %.2f\" % (target_return))\n",
    "\n",
    "plt.grid()\n",
    "\n",
    "plt.show()\n"
   ]
  },
  {
   "cell_type": "code",
   "execution_count": 126,
   "id": "4c667672-6242-41e3-82b6-3b46037ab2a6",
   "metadata": {},
   "outputs": [],
   "source": [
    "sharpe_indices = simulated_portfolios.apply(lambda x : np.mean(x)/np.std(x))"
   ]
  },
  {
   "cell_type": "code",
   "execution_count": 127,
   "id": "3b691280-b1de-457a-8101-3312fa47be91",
   "metadata": {},
   "outputs": [
    {
     "data": {
      "image/png": "[encoded data removed]",
      "text/plain": [
       "<Figure size 500x500 with 1 Axes>"
      ]
     },
     "metadata": {},
     "output_type": "display_data"
    }
   ],
   "source": [
    "plt.hist(sharpe_indices,bins=\"rice\")\n",
    "plt.xlabel(\"Sharpe ratio\")\n",
    "\n",
    "plt.show()"
   ]
  },
  {
   "cell_type": "code",
   "execution_count": 128,
   "id": "302a9d67-bae7-4022-853e-d68fdbfa24e2",
   "metadata": {},
   "outputs": [
    {
     "data": {
      "text/plain": [
       "0.5035684018555289"
      ]
     },
     "execution_count": 128,
     "metadata": {},
     "output_type": "execute_result"
    }
   ],
   "source": [
    "np.mean(sharpe_indices)"
   ]
  },
  {
   "cell_type": "code",
   "execution_count": null,
   "id": "6d64a2fa-5169-4f0a-8dcd-e9a68d397205",
   "metadata": {},
   "outputs": [],
   "source": []
  },
  {
   "cell_type": "code",
   "execution_count": null,
   "id": "b78634fd-5924-4aee-b900-0c993693718e",
   "metadata": {},
   "outputs": [],
   "source": []
  }
 ],
 "metadata": {
  "kernelspec": {
   "display_name": "Python 3.8.8",
   "language": "python",
   "name": "p38"
  },
  "language_info": {
   "codemirror_mode": {
    "name": "ipython",
    "version": 3
   },
   "file_extension": ".py",
   "mimetype": "text/x-python",
   "name": "python",
   "nbconvert_exporter": "python",
   "pygments_lexer": "ipython3",
   "version": "3.8.11"
  }
 },
 "nbformat": 4,
 "nbformat_minor": 5
}
