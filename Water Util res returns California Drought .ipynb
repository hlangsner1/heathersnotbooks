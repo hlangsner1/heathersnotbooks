{
 "cells": [
  {
   "cell_type": "code",
   "execution_count": 1,
   "id": "31e86bb6-46cf-4fda-856b-1f51d5ba5288",
   "metadata": {},
   "outputs": [],
   "source": [
    "#Residual Returns (beta adjusted returns)"
   ]
  },
  {
   "cell_type": "code",
   "execution_count": 1,
   "id": "847af222-039b-4834-86f3-7d92bbbbbdeb",
   "metadata": {},
   "outputs": [],
   "source": [
    "import numpy as np\n",
    "import pandas as pd\n",
    "from datetime import datetime \n",
    "from pandas_datareader import data\n",
    "import statistics "
   ]
  },
  {
   "cell_type": "code",
   "execution_count": 2,
   "id": "c61b0d85-1774-465c-aed2-8cf3ee1498e5",
   "metadata": {},
   "outputs": [],
   "source": [
    "pd.set_option('display.precision', 4)"
   ]
  },
  {
   "cell_type": "code",
   "execution_count": 3,
   "id": "f3d26f53-c1ec-4008-8f94-33ca1c06eb27",
   "metadata": {},
   "outputs": [],
   "source": [
    "def get_start_dt(dt_, offset_days_=260):\n",
    "    offset = pd.tseries.offsets.BusinessDay(n=offset_days_)\n",
    "    out_dt = dt_ - offset\n",
    "    return out_dt.date()"
   ]
  },
  {
   "cell_type": "code",
   "execution_count": 4,
   "id": "7cc245f0-f43e-4ad2-a354-906c463e1f56",
   "metadata": {},
   "outputs": [],
   "source": [
    "beta = lambda s_ret, indx_ret, range_end_dt: np.cov(s_ret.loc[:range_end_dt], indx_ret.loc[:range_end_dt])[0, 1] / \\\n",
    "                                             np.cov(s_ret.loc[:range_end_dt], indx_ret.loc[:range_end_dt])[1, 1]\n"
   ]
  },
  {
   "cell_type": "code",
   "execution_count": 5,
   "id": "06179651-0aa5-452f-8bbe-fda93c4fce51",
   "metadata": {},
   "outputs": [],
   "source": [
    "res_returns = lambda tkr: ret_df[tkr].subtract(risk_free_rate) - betas[tkr] * (ret_df['SPY'].subtract(risk_free_rate))"
   ]
  },
  {
   "cell_type": "code",
   "execution_count": 6,
   "id": "e91049dd-1348-4f6d-aa8f-671eaee9b022",
   "metadata": {},
   "outputs": [],
   "source": [
    "def compute_residual_rets (tkr_list_):\n",
    "    r = [res_returns(tkr) for tkr in tkr_list_]\n",
    "    rd = pd.DataFrame(r).T\n",
    "    rd.columns = tkr_list_\n",
    "    return rd"
   ]
  },
  {
   "cell_type": "code",
   "execution_count": 7,
   "id": "30d57e60-4e05-4153-a181-f881d8a4591d",
   "metadata": {},
   "outputs": [
    {
     "data": {
      "text/html": [
       "<div>\n",
       "<style scoped>\n",
       "    .dataframe tbody tr th:only-of-type {\n",
       "        vertical-align: middle;\n",
       "    }\n",
       "\n",
       "    .dataframe tbody tr th {\n",
       "        vertical-align: top;\n",
       "    }\n",
       "\n",
       "    .dataframe thead th {\n",
       "        text-align: right;\n",
       "    }\n",
       "</style>\n",
       "<table border=\"1\" class=\"dataframe\">\n",
       "  <thead>\n",
       "    <tr style=\"text-align: right;\">\n",
       "      <th></th>\n",
       "      <th>name</th>\n",
       "    </tr>\n",
       "    <tr>\n",
       "      <th>ticker</th>\n",
       "      <th></th>\n",
       "    </tr>\n",
       "  </thead>\n",
       "  <tbody>\n",
       "    <tr>\n",
       "      <th>CGW</th>\n",
       "      <td>Invesco S&amp;P Global Water Index ETF</td>\n",
       "    </tr>\n",
       "    <tr>\n",
       "      <th>PHO</th>\n",
       "      <td>Invesco Water Resources ETF</td>\n",
       "    </tr>\n",
       "  </tbody>\n",
       "</table>\n",
       "</div>"
      ],
      "text/plain": [
       "                                      name\n",
       "ticker                                    \n",
       "CGW     Invesco S&P Global Water Index ETF\n",
       "PHO            Invesco Water Resources ETF"
      ]
     },
     "execution_count": 7,
     "metadata": {},
     "output_type": "execute_result"
    }
   ],
   "source": [
    "tickers_file = 'Water Related Utilities tickers California Drought.xlsx'\n",
    "ticker = pd.read_excel(tickers_file, index_col='ticker')\n",
    "ticker"
   ]
  },
  {
   "cell_type": "code",
   "execution_count": 8,
   "id": "23cf174f-a101-4a48-97ad-19c0de090ce6",
   "metadata": {},
   "outputs": [],
   "source": [
    "tkr_list_HL = list(ticker.index)"
   ]
  },
  {
   "cell_type": "code",
   "execution_count": 9,
   "id": "582daf18-b5ea-4fcb-917a-209011fe6bac",
   "metadata": {},
   "outputs": [
    {
     "data": {
      "text/plain": [
       "['CGW', 'PHO']"
      ]
     },
     "execution_count": 9,
     "metadata": {},
     "output_type": "execute_result"
    }
   ],
   "source": [
    "tkr_list_HL"
   ]
  },
  {
   "cell_type": "markdown",
   "id": "b6c52966-4702-4262-8cfa-b4be05d6fc5d",
   "metadata": {},
   "source": [
    "stocks = list(ticker.reset_index().T.to_dict().values())\n",
    "stocks"
   ]
  },
  {
   "cell_type": "markdown",
   "id": "099531f2-30dc-4b34-aa30-8b7e000f31fa",
   "metadata": {
    "tags": []
   },
   "source": [
    "#stocks = [\n",
    "    {\n",
    "        'ticker': 'XOM',\n",
    "        'name': 'Exxon'\n",
    "    },\n",
    "    {\n",
    "        'ticker': 'CVX',\n",
    "        'name': 'Chevron'\n",
    "    },\n",
    "    {\n",
    "        'ticker': 'OXY',\n",
    "        'name': 'Occidental'\n",
    "    },\n",
    "    {\n",
    "        'ticker': 'COP',\n",
    "        'name': 'ConocoPhillips'\n",
    "    },\n",
    "    {\n",
    "        'ticker': 'EOG',\n",
    "        'name': 'EOG Resources Group'\n",
    "    },\n",
    "    {\n",
    "        'ticker': 'PXD',\n",
    "        'name': 'Pioneer Natural Resources'\n",
    "    },\n",
    "     {\n",
    "        'ticker': 'MPC',\n",
    "        'name': 'Marathon Petroleum'\n",
    "    },\n",
    "    {\n",
    "        'ticker': 'SLB',\n",
    "        'name': 'Schlumberger Limited'\n",
    "    },\n",
    "    {\n",
    "        'ticker': 'VLO',\n",
    "        'name': 'Valero Energy Corporation'\n",
    "    },\n",
    "    {\n",
    "        'ticker': 'PSX',\n",
    "        'name': 'Philips 66'\n",
    "    },\n",
    "    {\n",
    "        'ticker': 'WMB',\n",
    "        'name': 'The Williams Companies Inc'\n",
    "    },\n",
    "    {\n",
    "        'ticker': 'DVN',\n",
    "        'name': 'Devon Energy'\n",
    "    },\n",
    "    {\n",
    "        'ticker': 'KMI',\n",
    "        'name': 'Kinder Morgan Inc'\n",
    "    },\n",
    "    {\n",
    "        'ticker': 'HES',\n",
    "        'name': 'HESS Corporation'\n",
    "    },\n",
    "    {\n",
    "        'ticker': 'OKE',\n",
    "        'name': 'ONEOK INC'\n",
    "    },\n",
    "     {\n",
    "        'ticker': 'HAL',\n",
    "        'name': 'Halliburton Company'\n",
    "    },\n",
    "    {\n",
    "        'ticker': 'CTRA',\n",
    "        'name': 'Coterra Energy'\n",
    "    },\n",
    "    {\n",
    "        'ticker': 'BKR',\n",
    "        'name': 'Baker Hughes Company'\n",
    "    },\n",
    "    {\n",
    "        'ticker': 'FANG',\n",
    "        'name': 'Diamondback Energy Inc'\n",
    "    },\n",
    "    {\n",
    "        'ticker': 'MRO',\n",
    "        'name': 'Marathon Oil Corporation'\n",
    "    },\n",
    "    {\n",
    "        'ticker': 'APA',\n",
    "        'name': 'APA Corporation'\n",
    "    },\n",
    "    {\n",
    "        'ticker': 'EQT',\n",
    "        'name': 'EQT Corp'\n",
    "    }\n",
    "]"
   ]
  },
  {
   "cell_type": "markdown",
   "id": "e8de795a-0191-4da0-bf3e-62130915ca7a",
   "metadata": {},
   "source": [
    "stocks_df = pd.DataFrame(stocks)\n",
    "stocks_df.set_index('ticker', inplace=True)\n",
    "tkr_list = list(stocks_df.index)"
   ]
  },
  {
   "cell_type": "markdown",
   "id": "547a488f-e0a0-435a-90ea-6fa6ef760f7f",
   "metadata": {},
   "source": [
    "tkr_list"
   ]
  },
  {
   "cell_type": "code",
   "execution_count": 10,
   "id": "c0f05575-3498-4e44-976d-ae2c0480ead4",
   "metadata": {},
   "outputs": [],
   "source": [
    "crisis_dt = datetime(2022, 8, 1)\n",
    "end_dt = datetime(2022, 9, 14)\n",
    "start_dt = get_start_dt(end_dt, offset_days_=260)"
   ]
  },
  {
   "cell_type": "code",
   "execution_count": 11,
   "id": "dea0d679-3d95-4ecd-8cbd-fc719a1039c0",
   "metadata": {},
   "outputs": [],
   "source": [
    "cl_df = data.DataReader(['SPY'] + tkr_list_HL, start=start_dt, end=end_dt, data_source='yahoo')['Adj Close']"
   ]
  },
  {
   "cell_type": "markdown",
   "id": "7b7b9dd6-84f4-4adf-b87d-c53a66c3d677",
   "metadata": {},
   "source": [
    "cl_df = data.DataReader(['SPY'] + ['EOG', 'COP'], start=start_dt, end=end_dt, data_source='yahoo')['Adj Close']"
   ]
  },
  {
   "cell_type": "code",
   "execution_count": 12,
   "id": "b8a9a828-6300-4e40-a7e6-6fa50eaab407",
   "metadata": {},
   "outputs": [],
   "source": [
    "ret_df = cl_df.div(cl_df.shift(1)) - 1.0 \n",
    "ret_df.dropna(inplace=True)\n",
    "index_return = ret_df['SPY']\n",
    "index_var = np.var(ret_df['SPY'])"
   ]
  },
  {
   "cell_type": "code",
   "execution_count": 13,
   "id": "a06c72e4-c797-4d1d-b856-1bf7e80adc0f",
   "metadata": {},
   "outputs": [],
   "source": [
    "betas = ret_df[tkr_list_HL].apply(beta, axis=0, indx_ret= ret_df['SPY'], range_end_dt=crisis_dt)"
   ]
  },
  {
   "cell_type": "code",
   "execution_count": 14,
   "id": "64ecb870-d6a3-4ab6-acb0-a72f9482824d",
   "metadata": {},
   "outputs": [],
   "source": [
    "treasury_3_mo = 2.943/100\n",
    "risk_free_rate = treasury_3_mo/90"
   ]
  },
  {
   "cell_type": "code",
   "execution_count": 15,
   "id": "840f7747-b950-4b47-953f-d6b02a00a988",
   "metadata": {},
   "outputs": [],
   "source": [
    "residual_return_df = compute_residual_rets(tkr_list_HL)"
   ]
  },
  {
   "cell_type": "code",
   "execution_count": 16,
   "id": "212e7d24-fb0d-43a3-95ba-86d8c0012513",
   "metadata": {
    "tags": []
   },
   "outputs": [
    {
     "data": {
      "text/html": [
       "<div>\n",
       "<style scoped>\n",
       "    .dataframe tbody tr th:only-of-type {\n",
       "        vertical-align: middle;\n",
       "    }\n",
       "\n",
       "    .dataframe tbody tr th {\n",
       "        vertical-align: top;\n",
       "    }\n",
       "\n",
       "    .dataframe thead th {\n",
       "        text-align: right;\n",
       "    }\n",
       "</style>\n",
       "<table border=\"1\" class=\"dataframe\">\n",
       "  <thead>\n",
       "    <tr style=\"text-align: right;\">\n",
       "      <th></th>\n",
       "      <th>CGW</th>\n",
       "      <th>PHO</th>\n",
       "    </tr>\n",
       "    <tr>\n",
       "      <th>Date</th>\n",
       "      <th></th>\n",
       "      <th></th>\n",
       "    </tr>\n",
       "  </thead>\n",
       "  <tbody>\n",
       "    <tr>\n",
       "      <th>2021-09-16</th>\n",
       "      <td>-4.1761e-03</td>\n",
       "      <td>-0.0093</td>\n",
       "    </tr>\n",
       "    <tr>\n",
       "      <th>2021-09-17</th>\n",
       "      <td>-7.9936e-03</td>\n",
       "      <td>-0.0017</td>\n",
       "    </tr>\n",
       "    <tr>\n",
       "      <th>2021-09-20</th>\n",
       "      <td>3.1318e-03</td>\n",
       "      <td>0.0102</td>\n",
       "    </tr>\n",
       "    <tr>\n",
       "      <th>2021-09-21</th>\n",
       "      <td>1.2094e-03</td>\n",
       "      <td>-0.0027</td>\n",
       "    </tr>\n",
       "    <tr>\n",
       "      <th>2021-09-22</th>\n",
       "      <td>-6.1873e-05</td>\n",
       "      <td>-0.0015</td>\n",
       "    </tr>\n",
       "    <tr>\n",
       "      <th>...</th>\n",
       "      <td>...</td>\n",
       "      <td>...</td>\n",
       "    </tr>\n",
       "    <tr>\n",
       "      <th>2022-09-08</th>\n",
       "      <td>-2.4757e-03</td>\n",
       "      <td>0.0022</td>\n",
       "    </tr>\n",
       "    <tr>\n",
       "      <th>2022-09-09</th>\n",
       "      <td>4.3520e-03</td>\n",
       "      <td>-0.0037</td>\n",
       "    </tr>\n",
       "    <tr>\n",
       "      <th>2022-09-12</th>\n",
       "      <td>4.7159e-03</td>\n",
       "      <td>-0.0014</td>\n",
       "    </tr>\n",
       "    <tr>\n",
       "      <th>2022-09-13</th>\n",
       "      <td>-1.7581e-03</td>\n",
       "      <td>0.0039</td>\n",
       "    </tr>\n",
       "    <tr>\n",
       "      <th>2022-09-14</th>\n",
       "      <td>-5.7231e-03</td>\n",
       "      <td>-0.0029</td>\n",
       "    </tr>\n",
       "  </tbody>\n",
       "</table>\n",
       "<p>251 rows × 2 columns</p>\n",
       "</div>"
      ],
      "text/plain": [
       "                   CGW     PHO\n",
       "Date                          \n",
       "2021-09-16 -4.1761e-03 -0.0093\n",
       "2021-09-17 -7.9936e-03 -0.0017\n",
       "2021-09-20  3.1318e-03  0.0102\n",
       "2021-09-21  1.2094e-03 -0.0027\n",
       "2021-09-22 -6.1873e-05 -0.0015\n",
       "...                ...     ...\n",
       "2022-09-08 -2.4757e-03  0.0022\n",
       "2022-09-09  4.3520e-03 -0.0037\n",
       "2022-09-12  4.7159e-03 -0.0014\n",
       "2022-09-13 -1.7581e-03  0.0039\n",
       "2022-09-14 -5.7231e-03 -0.0029\n",
       "\n",
       "[251 rows x 2 columns]"
      ]
     },
     "execution_count": 16,
     "metadata": {},
     "output_type": "execute_result"
    }
   ],
   "source": [
    "residual_return_df"
   ]
  },
  {
   "cell_type": "code",
   "execution_count": 17,
   "id": "f6edad1d-5aa7-48e6-addf-cf2b4b5abbec",
   "metadata": {},
   "outputs": [
    {
     "name": "stdout",
     "output_type": "stream",
     "text": [
      "Max element based on the list of columns:  0.017707147798492362\n",
      "Max element based on the list of rows:  0.017707147798492362\n"
     ]
    }
   ],
   "source": [
    "max_by_columns = residual_return_df.max()\n",
    "max_by_rows = residual_return_df.max(axis=1)\n",
    "\n",
    "df_max = max(max_by_columns)\n",
    "print(\"Max element based on the list of columns: \", df_max)\n",
    "\n",
    "df_max2 = max(max_by_rows)\n",
    "print(\"Max element based on the list of rows: \", df_max2)\n"
   ]
  },
  {
   "cell_type": "code",
   "execution_count": 18,
   "id": "77f30906-abd0-4faf-8d3f-5b6e311911c5",
   "metadata": {},
   "outputs": [
    {
     "name": "stdout",
     "output_type": "stream",
     "text": [
      "Median element based on the list of columns:  -0.00048381633079205367\n",
      "Median element based on the list of rows:  -0.0004179477424445066\n"
     ]
    }
   ],
   "source": [
    "median_by_columns = residual_return_df.median()\n",
    "median_by_rows = residual_return_df.median(axis=1)\n",
    "\n",
    "df_median = statistics.median(median_by_columns)\n",
    "print(\"Median element based on the list of columns: \", df_median)\n",
    "\n",
    "df_median2 = statistics.median(median_by_rows)\n",
    "print(\"Median element based on the list of rows: \", df_median2)\n"
   ]
  },
  {
   "cell_type": "code",
   "execution_count": 19,
   "id": "b4f79599-f608-4d8f-b4ed-b98915c2d2aa",
   "metadata": {},
   "outputs": [
    {
     "name": "stdout",
     "output_type": "stream",
     "text": [
      "Minimum element based on the list of columns:  -0.02218757033338487\n",
      "Minimum  element based on the list of rows:  -0.02218757033338487\n"
     ]
    }
   ],
   "source": [
    "min_by_columns = residual_return_df.min()\n",
    "min_by_rows = residual_return_df.min(axis=1)\n",
    "\n",
    "df_min = min(min_by_columns)\n",
    "print(\"Minimum element based on the list of columns: \", df_min)\n",
    "\n",
    "df_min2 = min(min_by_rows)\n",
    "print(\"Minimum  element based on the list of rows: \", df_min2)\n"
   ]
  },
  {
   "cell_type": "code",
   "execution_count": null,
   "id": "62a7d2ba-2902-4878-bf73-64abcf4a9976",
   "metadata": {},
   "outputs": [],
   "source": []
  },
  {
   "cell_type": "code",
   "execution_count": null,
   "id": "50803230-a711-49f5-833c-2510dd1187de",
   "metadata": {},
   "outputs": [],
   "source": []
  }
 ],
 "metadata": {
  "kernelspec": {
   "display_name": "Python 3",
   "language": "python",
   "name": "python3"
  },
  "language_info": {
   "codemirror_mode": {
    "name": "ipython",
    "version": 3
   },
   "file_extension": ".py",
   "mimetype": "text/x-python",
   "name": "python",
   "nbconvert_exporter": "python",
   "pygments_lexer": "ipython3",
   "version": "3.8.11"
  }
 },
 "nbformat": 4,
 "nbformat_minor": 5
}
